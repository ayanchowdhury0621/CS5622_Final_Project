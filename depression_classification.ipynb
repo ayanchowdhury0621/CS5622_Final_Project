{
 "cells": [
  {
   "cell_type": "code",
   "execution_count": 1,
   "metadata": {},
   "outputs": [],
   "source": [
    "import pandas as pd\n",
    "import numpy as np\n",
    "import os"
   ]
  },
  {
   "cell_type": "code",
   "execution_count": 2,
   "metadata": {},
   "outputs": [],
   "source": [
    "# Function to add the feature descriptions as column names to a DataFrame\n",
    "def add_feature_descriptions(speaker_df, descriptions_df):\n",
    "    # Set the new column headers\n",
    "    descriptions_df.columns = ['feature_name', 'feature_description']\n",
    "    # Use the 'feature_name' column as the column names for speaker_df\n",
    "    speaker_df.columns = descriptions_df['feature_name'].values\n",
    "    return speaker_df\n",
    "\n",
    "\n",
    "# Function to add the labels to the speaker DataFrame\n",
    "def add_labels(speaker_df, labels_df, participant_id):\n",
    "    # Find the matching row in the labels DataFrame by participant ID\n",
    "    labels_row = labels_df.loc[labels_df['Participant_ID'] == participant_id]\n",
    "    # If the row is found, add the Depression and Gender values as new columns\n",
    "    if not labels_row.empty:\n",
    "        speaker_df['Depression'] = labels_row['Depression'].values[0]\n",
    "        speaker_df['Gender'] = labels_row['Gender'].values[0]\n",
    "    return speaker_df\n",
    "\n",
    "# Paths to CSV files\n",
    "features_description_path = '/Users/Ayan/Desktop/CS5622_Final_Project/feature_description.csv'\n",
    "labels_path = '/Users/Ayan/Desktop/CS5622_Final_Project/labels.csv'\n",
    "features_train_dir = '/Users/Ayan/Desktop/CS5622_Final_Project/features_train'\n",
    "\n",
    "# Read the feature descriptions and labels CSV files\n",
    "features_description_df = pd.read_csv(features_description_path, encoding='latin-1', header=None)\n",
    "labels_df = pd.read_csv(labels_path, encoding='latin-1')\n",
    "\n",
    "# Iterate over each speaker CSV file in the features_train directory\n",
    "for file in os.listdir(features_train_dir):\n",
    "    if file.endswith('.csv'):\n",
    "        # Extract the participant ID from the file name\n",
    "        participant_id = int(file.split('_')[1].split('.')[0])\n",
    "        \n",
    "        # Read the speaker CSV file\n",
    "        speaker_df = pd.read_csv(os.path.join(features_train_dir, file), encoding='latin-1')\n",
    "        \n",
    "        # Add feature descriptions as column headers\n",
    "        speaker_df = add_feature_descriptions(speaker_df, features_description_df)\n",
    "        \n",
    "        # Add labels based on participant ID\n",
    "        speaker_df = add_labels(speaker_df, labels_df, participant_id)\n",
    "        \n",
    "        # Save the augmented speaker DataFrame back to CSV or proceed with further processing\n",
    "        speaker_df.to_csv(os.path.join(features_train_dir, f'processed_{file}'), index=False)\n"
   ]
  },
  {
   "cell_type": "code",
   "execution_count": null,
   "metadata": {},
   "outputs": [],
   "source": []
  }
 ],
 "metadata": {
  "kernelspec": {
   "display_name": "venv",
   "language": "python",
   "name": "python3"
  },
  "language_info": {
   "codemirror_mode": {
    "name": "ipython",
    "version": 3
   },
   "file_extension": ".py",
   "mimetype": "text/x-python",
   "name": "python",
   "nbconvert_exporter": "python",
   "pygments_lexer": "ipython3",
   "version": "3.11.5"
  }
 },
 "nbformat": 4,
 "nbformat_minor": 2
}
